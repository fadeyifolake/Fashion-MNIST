{
 "cells": [
  {
   "cell_type": "code",
   "execution_count": 1,
   "metadata": {
    "id": "mQBeXJSQarV8"
   },
   "outputs": [],
   "source": [
    "import numpy as np\n",
    "import tensorflow as tf\n",
    "from tensorflow.keras import layers, models"
   ]
  },
  {
   "cell_type": "markdown",
   "metadata": {},
   "source": [
    "### CNN Model"
   ]
  },
  {
   "cell_type": "code",
   "execution_count": 2,
   "metadata": {
    "id": "aJnsNOTEgVYE"
   },
   "outputs": [],
   "source": [
    "class CNNModel:\n",
    "    def __init__(self, input_shape, num_classes):\n",
    "        self.input_shape = input_shape\n",
    "        self.num_classes = num_classes\n",
    "        self.model = self.build_model()\n",
    "\n",
    "    def build_model(self):\n",
    "        model = models.Sequential()\n",
    "\n",
    "        model.add(layers.Conv2D(32, (3, 3), activation='relu', input_shape=self.input_shape))\n",
    "        model.add(layers.MaxPooling2D((2, 2)))\n",
    "        model.add(layers.Conv2D(64, (3, 3), activation='relu'))\n",
    "        model.add(layers.MaxPooling2D((2, 2)))\n",
    "        model.add(layers.Conv2D(64, (3, 3), activation='relu'))\n",
    "\n",
    "        model.add(layers.Flatten())\n",
    "        model.add(layers.Dense(64, activation='relu'))\n",
    "        model.add(layers.Dense(self.num_classes, activation='softmax'))\n",
    "\n",
    "        model.compile(optimizer='adam',\n",
    "                      loss='sparse_categorical_crossentropy',\n",
    "                      metrics=['accuracy'])\n",
    "        return model\n",
    "\n",
    "    def train(self, train_images, train_labels, validation_images, validation_labels, epochs=5, batch_size=64):\n",
    "        history = self.model.fit(train_images, train_labels, epochs=epochs, batch_size=batch_size,\n",
    "                                 validation_data=(validation_images, validation_labels))\n",
    "        return history\n",
    "\n",
    "    def evaluate(self, test_images, test_labels):\n",
    "        return self.model.evaluate(test_images, test_labels)\n",
    "\n",
    "    def predict(self, images):\n",
    "        return self.model.predict(images)"
   ]
  },
  {
   "cell_type": "markdown",
   "metadata": {},
   "source": [
    "### Loading the Fashion Dataset"
   ]
  },
  {
   "cell_type": "code",
   "execution_count": 3,
   "metadata": {
    "colab": {
     "base_uri": "https://localhost:8080/"
    },
    "id": "W2-gG8S50MD2",
    "outputId": "e589d059-1ed0-44b0-f156-6ee37b77af9e"
   },
   "outputs": [
    {
     "name": "stdout",
     "output_type": "stream",
     "text": [
      "Epoch 1/10\n",
      "938/938 [==============================] - 57s 60ms/step - loss: 0.5405 - accuracy: 0.8033 - val_loss: 0.4317 - val_accuracy: 0.8362\n",
      "Epoch 2/10\n",
      "938/938 [==============================] - 53s 56ms/step - loss: 0.3433 - accuracy: 0.8756 - val_loss: 0.3294 - val_accuracy: 0.8814\n",
      "Epoch 3/10\n",
      "938/938 [==============================] - 56s 59ms/step - loss: 0.2983 - accuracy: 0.8912 - val_loss: 0.3124 - val_accuracy: 0.8850\n",
      "Epoch 4/10\n",
      "938/938 [==============================] - 54s 58ms/step - loss: 0.2661 - accuracy: 0.9022 - val_loss: 0.2888 - val_accuracy: 0.8967\n",
      "Epoch 5/10\n",
      "938/938 [==============================] - 51s 55ms/step - loss: 0.2446 - accuracy: 0.9098 - val_loss: 0.2810 - val_accuracy: 0.8999\n",
      "Epoch 6/10\n",
      "938/938 [==============================] - 54s 58ms/step - loss: 0.2248 - accuracy: 0.9164 - val_loss: 0.2747 - val_accuracy: 0.8973\n",
      "Epoch 7/10\n",
      "938/938 [==============================] - 53s 56ms/step - loss: 0.2098 - accuracy: 0.9222 - val_loss: 0.2636 - val_accuracy: 0.9057\n",
      "Epoch 8/10\n",
      "938/938 [==============================] - 55s 59ms/step - loss: 0.1933 - accuracy: 0.9292 - val_loss: 0.2549 - val_accuracy: 0.9063\n",
      "Epoch 9/10\n",
      "938/938 [==============================] - 55s 59ms/step - loss: 0.1780 - accuracy: 0.9342 - val_loss: 0.2565 - val_accuracy: 0.9085\n",
      "Epoch 10/10\n",
      "938/938 [==============================] - 54s 58ms/step - loss: 0.1664 - accuracy: 0.9381 - val_loss: 0.2831 - val_accuracy: 0.9009\n"
     ]
    }
   ],
   "source": [
    "# Load Fashion MNIST dataset\n",
    "(train_images, train_labels), (test_images, test_labels) = tf.keras.datasets.fashion_mnist.load_data()\n",
    "\n",
    "# Preprocess the data\n",
    "train_images = train_images.reshape((train_images.shape[0], 28, 28, 1)).astype('float32') / 255\n",
    "test_images = test_images.reshape((test_images.shape[0], 28, 28, 1)).astype('float32') / 255\n",
    "\n",
    "# Instantiate the CNN model\n",
    "cnn_model = CNNModel(input_shape=(28, 28, 1), num_classes=10)\n",
    "\n",
    "# Train the model\n",
    "history = cnn_model.train(train_images, train_labels, test_images, test_labels, epochs=10, batch_size=64)"
   ]
  },
  {
   "cell_type": "markdown",
   "metadata": {
    "id": "Yh6e3tIC0V6S"
   },
   "source": [
    "# **Predictions for first two images**"
   ]
  },
  {
   "cell_type": "code",
   "execution_count": 4,
   "metadata": {
    "colab": {
     "base_uri": "https://localhost:8080/"
    },
    "id": "wllmRmBmoRmr",
    "outputId": "ee2f8e06-60e0-4880-afd7-cc019a88d782"
   },
   "outputs": [
    {
     "name": "stdout",
     "output_type": "stream",
     "text": [
      "1/1 [==============================] - 0s 142ms/step\n",
      "Predicted classes for the first two images:\n",
      "Image 1: Predicted Class - 9\n",
      "Image 2: Predicted Class - 2\n"
     ]
    }
   ],
   "source": [
    "# Make predictions for two images\n",
    "predictions = cnn_model.predict(test_images[:2])\n",
    "predicted_classes = np.argmax(predictions, axis=1)\n",
    "\n",
    "# Print predicted classes\n",
    "print(\"Predicted classes for the first two images:\")\n",
    "for i, predicted_class in enumerate(predicted_classes):\n",
    "    print(f\"Image {i+1}: Predicted Class - {predicted_class}\")\n"
   ]
  }
 ],
 "metadata": {
  "colab": {
   "provenance": []
  },
  "kernelspec": {
   "display_name": "Python 3 (ipykernel)",
   "language": "python",
   "name": "python3"
  },
  "language_info": {
   "codemirror_mode": {
    "name": "ipython",
    "version": 3
   },
   "file_extension": ".py",
   "mimetype": "text/x-python",
   "name": "python",
   "nbconvert_exporter": "python",
   "pygments_lexer": "ipython3",
   "version": "3.11.7"
  }
 },
 "nbformat": 4,
 "nbformat_minor": 4
}
